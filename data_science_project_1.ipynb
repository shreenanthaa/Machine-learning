{
 "cells": [
  {
   "cell_type": "code",
   "execution_count": 77,
   "id": "730963c6",
   "metadata": {},
   "outputs": [],
   "source": [
    "import pandas as pd\n",
    "import numpy as np \n",
    "from matplotlib import pyplot as plt\n",
    "%matplotlib inline\n",
    "import matplotlib\n",
    "matplotlib.rcParams['figure.figsize']=(21,10)"
   ]
  },
  {
   "cell_type": "code",
   "execution_count": 78,
   "id": "50725983",
   "metadata": {},
   "outputs": [],
   "source": [
    "df=pd.read_csv('clean_data.csv')"
   ]
  },
  {
   "cell_type": "code",
   "execution_count": 79,
   "id": "3b9c652c",
   "metadata": {},
   "outputs": [
    {
     "data": {
      "text/html": [
       "<div>\n",
       "<style scoped>\n",
       "    .dataframe tbody tr th:only-of-type {\n",
       "        vertical-align: middle;\n",
       "    }\n",
       "\n",
       "    .dataframe tbody tr th {\n",
       "        vertical-align: top;\n",
       "    }\n",
       "\n",
       "    .dataframe thead th {\n",
       "        text-align: right;\n",
       "    }\n",
       "</style>\n",
       "<table border=\"1\" class=\"dataframe\">\n",
       "  <thead>\n",
       "    <tr style=\"text-align: right;\">\n",
       "      <th></th>\n",
       "      <th>price</th>\n",
       "      <th>area</th>\n",
       "      <th>status</th>\n",
       "      <th>bhk</th>\n",
       "      <th>bathroom</th>\n",
       "      <th>age</th>\n",
       "      <th>location</th>\n",
       "      <th>builder</th>\n",
       "    </tr>\n",
       "  </thead>\n",
       "  <tbody>\n",
       "    <tr>\n",
       "      <th>0</th>\n",
       "      <td>37.49</td>\n",
       "      <td>872</td>\n",
       "      <td>Ready to move</td>\n",
       "      <td>2</td>\n",
       "      <td>NaN</td>\n",
       "      <td>1.0</td>\n",
       "      <td>Sembakkam</td>\n",
       "      <td>MP Developers</td>\n",
       "    </tr>\n",
       "    <tr>\n",
       "      <th>1</th>\n",
       "      <td>93.54</td>\n",
       "      <td>1346</td>\n",
       "      <td>Under Construction</td>\n",
       "      <td>3</td>\n",
       "      <td>2.0</td>\n",
       "      <td>NaN</td>\n",
       "      <td>Selaiyur</td>\n",
       "      <td>DAC Promoters</td>\n",
       "    </tr>\n",
       "    <tr>\n",
       "      <th>2</th>\n",
       "      <td>151.00</td>\n",
       "      <td>2225</td>\n",
       "      <td>Under Construction</td>\n",
       "      <td>3</td>\n",
       "      <td>NaN</td>\n",
       "      <td>0.0</td>\n",
       "      <td>Mogappair</td>\n",
       "      <td>Casagrand Builder Private Limited</td>\n",
       "    </tr>\n",
       "    <tr>\n",
       "      <th>3</th>\n",
       "      <td>49.00</td>\n",
       "      <td>1028</td>\n",
       "      <td>Ready to move</td>\n",
       "      <td>2</td>\n",
       "      <td>2.0</td>\n",
       "      <td>3.0</td>\n",
       "      <td>Ambattur</td>\n",
       "      <td>Dugar Housing Builders</td>\n",
       "    </tr>\n",
       "    <tr>\n",
       "      <th>4</th>\n",
       "      <td>42.28</td>\n",
       "      <td>588</td>\n",
       "      <td>Under Construction</td>\n",
       "      <td>2</td>\n",
       "      <td>1.0</td>\n",
       "      <td>0.0</td>\n",
       "      <td>Pallavaram</td>\n",
       "      <td>Radiance Realty Developers India Ltd</td>\n",
       "    </tr>\n",
       "  </tbody>\n",
       "</table>\n",
       "</div>"
      ],
      "text/plain": [
       "    price  area              status  bhk  bathroom  age    location  \\\n",
       "0   37.49   872       Ready to move    2       NaN  1.0   Sembakkam   \n",
       "1   93.54  1346  Under Construction    3       2.0  NaN    Selaiyur   \n",
       "2  151.00  2225  Under Construction    3       NaN  0.0   Mogappair   \n",
       "3   49.00  1028       Ready to move    2       2.0  3.0    Ambattur   \n",
       "4   42.28   588  Under Construction    2       1.0  0.0  Pallavaram   \n",
       "\n",
       "                                builder  \n",
       "0                         MP Developers  \n",
       "1                         DAC Promoters  \n",
       "2     Casagrand Builder Private Limited  \n",
       "3                Dugar Housing Builders  \n",
       "4  Radiance Realty Developers India Ltd  "
      ]
     },
     "execution_count": 79,
     "metadata": {},
     "output_type": "execute_result"
    }
   ],
   "source": [
    "df.head()"
   ]
  },
  {
   "cell_type": "code",
   "execution_count": 80,
   "id": "b55cbdec",
   "metadata": {},
   "outputs": [
    {
     "data": {
      "text/plain": [
       "(2620, 8)"
      ]
     },
     "execution_count": 80,
     "metadata": {},
     "output_type": "execute_result"
    }
   ],
   "source": [
    "df.shape"
   ]
  },
  {
   "cell_type": "code",
   "execution_count": 81,
   "id": "a1abb8f4",
   "metadata": {},
   "outputs": [
    {
     "data": {
      "text/plain": [
       "builder\n",
       "24K Realtors                         16\n",
       "AKS Housing Dedvelopment Pvt Ltd     15\n",
       "AKS REALTY SERVICES                   8\n",
       "ARB HOMES                            59\n",
       "Advaita Homes                        43\n",
       "                                   ... \n",
       "mohammed                              4\n",
       "seller                              484\n",
       "smartassetsindia                     16\n",
       "vinoth builders                       2\n",
       "viswaraj                             53\n",
       "Name: builder, Length: 135, dtype: int64"
      ]
     },
     "execution_count": 81,
     "metadata": {},
     "output_type": "execute_result"
    }
   ],
   "source": [
    "df.groupby('builder')['builder'].agg('count')"
   ]
  },
  {
   "cell_type": "code",
   "execution_count": 82,
   "id": "e409da7e",
   "metadata": {},
   "outputs": [
    {
     "data": {
      "text/plain": [
       "status\n",
       "Ready to move         1487\n",
       "Under Construction    1133\n",
       "Name: status, dtype: int64"
      ]
     },
     "execution_count": 82,
     "metadata": {},
     "output_type": "execute_result"
    }
   ],
   "source": [
    "df.groupby('status')['status'].agg('count')"
   ]
  },
  {
   "cell_type": "code",
   "execution_count": 83,
   "id": "e0d786a8",
   "metadata": {},
   "outputs": [
    {
     "data": {
      "text/plain": [
       "price          0\n",
       "area           0\n",
       "status         0\n",
       "bhk            0\n",
       "bathroom    1217\n",
       "age          891\n",
       "location       0\n",
       "builder        0\n",
       "dtype: int64"
      ]
     },
     "execution_count": 83,
     "metadata": {},
     "output_type": "execute_result"
    }
   ],
   "source": [
    "df.isnull().sum()"
   ]
  },
  {
   "cell_type": "code",
   "execution_count": 84,
   "id": "9465a55b",
   "metadata": {},
   "outputs": [
    {
     "data": {
      "text/plain": [
       "(580, 8)"
      ]
     },
     "execution_count": 84,
     "metadata": {},
     "output_type": "execute_result"
    }
   ],
   "source": [
    "df1=df.dropna()\n",
    "df1.shape"
   ]
  },
  {
   "cell_type": "code",
   "execution_count": 85,
   "id": "547b7d1f",
   "metadata": {},
   "outputs": [
    {
     "data": {
      "text/plain": [
       "price       0\n",
       "area        0\n",
       "status      0\n",
       "bhk         0\n",
       "bathroom    0\n",
       "age         0\n",
       "location    0\n",
       "builder     0\n",
       "dtype: int64"
      ]
     },
     "execution_count": 85,
     "metadata": {},
     "output_type": "execute_result"
    }
   ],
   "source": [
    "df1.isnull().sum()"
   ]
  },
  {
   "cell_type": "code",
   "execution_count": 86,
   "id": "210470a3",
   "metadata": {},
   "outputs": [
    {
     "name": "stdout",
     "output_type": "stream",
     "text": [
      "<class 'pandas.core.frame.DataFrame'>\n",
      "Int64Index: 580 entries, 3 to 2619\n",
      "Data columns (total 8 columns):\n",
      " #   Column    Non-Null Count  Dtype  \n",
      "---  ------    --------------  -----  \n",
      " 0   price     580 non-null    float64\n",
      " 1   area      580 non-null    int64  \n",
      " 2   status    580 non-null    object \n",
      " 3   bhk       580 non-null    int64  \n",
      " 4   bathroom  580 non-null    float64\n",
      " 5   age       580 non-null    float64\n",
      " 6   location  580 non-null    object \n",
      " 7   builder   580 non-null    object \n",
      "dtypes: float64(3), int64(2), object(3)\n",
      "memory usage: 40.8+ KB\n"
     ]
    }
   ],
   "source": [
    "df1.info()"
   ]
  },
  {
   "cell_type": "markdown",
   "id": "c21b3e1e",
   "metadata": {},
   "source": [
    "# feature extracting"
   ]
  },
  {
   "cell_type": "code",
   "execution_count": 87,
   "id": "267ce80c",
   "metadata": {},
   "outputs": [
    {
     "name": "stderr",
     "output_type": "stream",
     "text": [
      "<ipython-input-87-e5e78d1d290a>:1: SettingWithCopyWarning: \n",
      "A value is trying to be set on a copy of a slice from a DataFrame.\n",
      "Try using .loc[row_indexer,col_indexer] = value instead\n",
      "\n",
      "See the caveats in the documentation: https://pandas.pydata.org/pandas-docs/stable/user_guide/indexing.html#returning-a-view-versus-a-copy\n",
      "  df1['price_per_sqft']=df1['price']*100000/df1['area']\n"
     ]
    }
   ],
   "source": [
    "df1['price_per_sqft']=df1['price']*100000/df1['area']"
   ]
  },
  {
   "cell_type": "code",
   "execution_count": 88,
   "id": "e3125e46",
   "metadata": {},
   "outputs": [
    {
     "data": {
      "text/html": [
       "<div>\n",
       "<style scoped>\n",
       "    .dataframe tbody tr th:only-of-type {\n",
       "        vertical-align: middle;\n",
       "    }\n",
       "\n",
       "    .dataframe tbody tr th {\n",
       "        vertical-align: top;\n",
       "    }\n",
       "\n",
       "    .dataframe thead th {\n",
       "        text-align: right;\n",
       "    }\n",
       "</style>\n",
       "<table border=\"1\" class=\"dataframe\">\n",
       "  <thead>\n",
       "    <tr style=\"text-align: right;\">\n",
       "      <th></th>\n",
       "      <th>price</th>\n",
       "      <th>area</th>\n",
       "      <th>status</th>\n",
       "      <th>bhk</th>\n",
       "      <th>bathroom</th>\n",
       "      <th>age</th>\n",
       "      <th>location</th>\n",
       "      <th>builder</th>\n",
       "      <th>price_per_sqft</th>\n",
       "    </tr>\n",
       "  </thead>\n",
       "  <tbody>\n",
       "    <tr>\n",
       "      <th>3</th>\n",
       "      <td>49.00</td>\n",
       "      <td>1028</td>\n",
       "      <td>Ready to move</td>\n",
       "      <td>2</td>\n",
       "      <td>2.0</td>\n",
       "      <td>3.0</td>\n",
       "      <td>Ambattur</td>\n",
       "      <td>Dugar Housing Builders</td>\n",
       "      <td>4766.536965</td>\n",
       "    </tr>\n",
       "    <tr>\n",
       "      <th>4</th>\n",
       "      <td>42.28</td>\n",
       "      <td>588</td>\n",
       "      <td>Under Construction</td>\n",
       "      <td>2</td>\n",
       "      <td>1.0</td>\n",
       "      <td>0.0</td>\n",
       "      <td>Pallavaram</td>\n",
       "      <td>Radiance Realty Developers India Ltd</td>\n",
       "      <td>7190.476190</td>\n",
       "    </tr>\n",
       "    <tr>\n",
       "      <th>5</th>\n",
       "      <td>188.00</td>\n",
       "      <td>2221</td>\n",
       "      <td>Under Construction</td>\n",
       "      <td>3</td>\n",
       "      <td>3.0</td>\n",
       "      <td>0.0</td>\n",
       "      <td>Virugambakkam</td>\n",
       "      <td>Traventure Homes Pvt Ltd</td>\n",
       "      <td>8464.655561</td>\n",
       "    </tr>\n",
       "    <tr>\n",
       "      <th>11</th>\n",
       "      <td>240.00</td>\n",
       "      <td>1500</td>\n",
       "      <td>Ready to move</td>\n",
       "      <td>3</td>\n",
       "      <td>3.0</td>\n",
       "      <td>1.0</td>\n",
       "      <td>Anna Nagar</td>\n",
       "      <td>Pushkar Properties Pvt Ltd</td>\n",
       "      <td>16000.000000</td>\n",
       "    </tr>\n",
       "    <tr>\n",
       "      <th>15</th>\n",
       "      <td>113.00</td>\n",
       "      <td>2343</td>\n",
       "      <td>Ready to move</td>\n",
       "      <td>4</td>\n",
       "      <td>4.0</td>\n",
       "      <td>5.0</td>\n",
       "      <td>Navallur</td>\n",
       "      <td>Olympia Group</td>\n",
       "      <td>4822.876654</td>\n",
       "    </tr>\n",
       "  </tbody>\n",
       "</table>\n",
       "</div>"
      ],
      "text/plain": [
       "     price  area              status  bhk  bathroom  age       location  \\\n",
       "3    49.00  1028       Ready to move    2       2.0  3.0       Ambattur   \n",
       "4    42.28   588  Under Construction    2       1.0  0.0     Pallavaram   \n",
       "5   188.00  2221  Under Construction    3       3.0  0.0  Virugambakkam   \n",
       "11  240.00  1500       Ready to move    3       3.0  1.0     Anna Nagar   \n",
       "15  113.00  2343       Ready to move    4       4.0  5.0       Navallur   \n",
       "\n",
       "                                 builder  price_per_sqft  \n",
       "3                 Dugar Housing Builders     4766.536965  \n",
       "4   Radiance Realty Developers India Ltd     7190.476190  \n",
       "5               Traventure Homes Pvt Ltd     8464.655561  \n",
       "11            Pushkar Properties Pvt Ltd    16000.000000  \n",
       "15                         Olympia Group     4822.876654  "
      ]
     },
     "execution_count": 88,
     "metadata": {},
     "output_type": "execute_result"
    }
   ],
   "source": [
    "df1.head(5)"
   ]
  },
  {
   "cell_type": "markdown",
   "id": "0cd10e41",
   "metadata": {},
   "source": [
    "## changing name as others to the locations less than 3"
   ]
  },
  {
   "cell_type": "code",
   "execution_count": 89,
   "id": "8061b809",
   "metadata": {},
   "outputs": [
    {
     "data": {
      "text/plain": [
       "location\n",
       "Veppampattu        111\n",
       "Perungudi           34\n",
       "Iyyappanthangal     34\n",
       "Vadanemmeli         28\n",
       "Pallavaram          24\n",
       "                  ... \n",
       "Kumananchavadi       1\n",
       "Koyambedu            1\n",
       "Kovur                1\n",
       "Pammal               1\n",
       "Washermanpet         1\n",
       "Name: location, Length: 104, dtype: int64"
      ]
     },
     "execution_count": 89,
     "metadata": {},
     "output_type": "execute_result"
    }
   ],
   "source": [
    "location_stats=df1.groupby('location')['location'].agg('count').sort_values(ascending=False)\n",
    "location_stats"
   ]
  },
  {
   "cell_type": "code",
   "execution_count": 111,
   "id": "f35c46c5",
   "metadata": {},
   "outputs": [
    {
     "data": {
      "text/plain": [
       "location\n",
       "Ottiyabakkam            3\n",
       "Pozhichalur             3\n",
       "Thiruporur              3\n",
       "Kanathur Reddikuppam    3\n",
       "Keelkattalai            3\n",
       "                       ..\n",
       "Kumananchavadi          1\n",
       "Koyambedu               1\n",
       "Kovur                   1\n",
       "Pammal                  1\n",
       "Washermanpet            1\n",
       "Name: location, Length: 69, dtype: int64"
      ]
     },
     "execution_count": 111,
     "metadata": {},
     "output_type": "execute_result"
    }
   ],
   "source": [
    "location_lessthan_3=location_stats[location_stats<=3]\n",
    "location_lessthan_3"
   ]
  },
  {
   "cell_type": "code",
   "execution_count": 112,
   "id": "59267a67",
   "metadata": {},
   "outputs": [
    {
     "data": {
      "text/plain": [
       "36"
      ]
     },
     "execution_count": 112,
     "metadata": {},
     "output_type": "execute_result"
    }
   ],
   "source": [
    "len(df1.location.unique())"
   ]
  },
  {
   "cell_type": "code",
   "execution_count": 113,
   "id": "431f533b",
   "metadata": {},
   "outputs": [
    {
     "name": "stderr",
     "output_type": "stream",
     "text": [
      "C:\\Users\\HP\\anaconda3\\lib\\site-packages\\pandas\\core\\generic.py:5494: SettingWithCopyWarning: \n",
      "A value is trying to be set on a copy of a slice from a DataFrame.\n",
      "Try using .loc[row_indexer,col_indexer] = value instead\n",
      "\n",
      "See the caveats in the documentation: https://pandas.pydata.org/pandas-docs/stable/user_guide/indexing.html#returning-a-view-versus-a-copy\n",
      "  self[name] = value\n"
     ]
    }
   ],
   "source": [
    "df1.location=df1.location.apply(lambda x:'other' if x in location_lessthan_3 else x)"
   ]
  },
  {
   "cell_type": "code",
   "execution_count": 114,
   "id": "74c7b32d",
   "metadata": {},
   "outputs": [
    {
     "data": {
      "text/plain": [
       "36"
      ]
     },
     "execution_count": 114,
     "metadata": {},
     "output_type": "execute_result"
    }
   ],
   "source": [
    "len(df1.location.unique())"
   ]
  },
  {
   "cell_type": "code",
   "execution_count": 97,
   "id": "6e908cf3",
   "metadata": {},
   "outputs": [
    {
     "data": {
      "text/html": [
       "<div>\n",
       "<style scoped>\n",
       "    .dataframe tbody tr th:only-of-type {\n",
       "        vertical-align: middle;\n",
       "    }\n",
       "\n",
       "    .dataframe tbody tr th {\n",
       "        vertical-align: top;\n",
       "    }\n",
       "\n",
       "    .dataframe thead th {\n",
       "        text-align: right;\n",
       "    }\n",
       "</style>\n",
       "<table border=\"1\" class=\"dataframe\">\n",
       "  <thead>\n",
       "    <tr style=\"text-align: right;\">\n",
       "      <th></th>\n",
       "      <th>price</th>\n",
       "      <th>area</th>\n",
       "      <th>status</th>\n",
       "      <th>bhk</th>\n",
       "      <th>bathroom</th>\n",
       "      <th>age</th>\n",
       "      <th>location</th>\n",
       "      <th>builder</th>\n",
       "      <th>price_per_sqft</th>\n",
       "    </tr>\n",
       "  </thead>\n",
       "  <tbody>\n",
       "    <tr>\n",
       "      <th>3</th>\n",
       "      <td>49.00</td>\n",
       "      <td>1028</td>\n",
       "      <td>Ready to move</td>\n",
       "      <td>2</td>\n",
       "      <td>2.0</td>\n",
       "      <td>3.0</td>\n",
       "      <td>Ambattur</td>\n",
       "      <td>Dugar Housing Builders</td>\n",
       "      <td>4766.536965</td>\n",
       "    </tr>\n",
       "    <tr>\n",
       "      <th>4</th>\n",
       "      <td>42.28</td>\n",
       "      <td>588</td>\n",
       "      <td>Under Construction</td>\n",
       "      <td>2</td>\n",
       "      <td>1.0</td>\n",
       "      <td>0.0</td>\n",
       "      <td>Pallavaram</td>\n",
       "      <td>Radiance Realty Developers India Ltd</td>\n",
       "      <td>7190.476190</td>\n",
       "    </tr>\n",
       "    <tr>\n",
       "      <th>5</th>\n",
       "      <td>188.00</td>\n",
       "      <td>2221</td>\n",
       "      <td>Under Construction</td>\n",
       "      <td>3</td>\n",
       "      <td>3.0</td>\n",
       "      <td>0.0</td>\n",
       "      <td>Virugambakkam</td>\n",
       "      <td>Traventure Homes Pvt Ltd</td>\n",
       "      <td>8464.655561</td>\n",
       "    </tr>\n",
       "    <tr>\n",
       "      <th>11</th>\n",
       "      <td>240.00</td>\n",
       "      <td>1500</td>\n",
       "      <td>Ready to move</td>\n",
       "      <td>3</td>\n",
       "      <td>3.0</td>\n",
       "      <td>1.0</td>\n",
       "      <td>Anna Nagar</td>\n",
       "      <td>Pushkar Properties Pvt Ltd</td>\n",
       "      <td>16000.000000</td>\n",
       "    </tr>\n",
       "    <tr>\n",
       "      <th>15</th>\n",
       "      <td>113.00</td>\n",
       "      <td>2343</td>\n",
       "      <td>Ready to move</td>\n",
       "      <td>4</td>\n",
       "      <td>4.0</td>\n",
       "      <td>5.0</td>\n",
       "      <td>Navallur</td>\n",
       "      <td>Olympia Group</td>\n",
       "      <td>4822.876654</td>\n",
       "    </tr>\n",
       "  </tbody>\n",
       "</table>\n",
       "</div>"
      ],
      "text/plain": [
       "     price  area              status  bhk  bathroom  age       location  \\\n",
       "3    49.00  1028       Ready to move    2       2.0  3.0       Ambattur   \n",
       "4    42.28   588  Under Construction    2       1.0  0.0     Pallavaram   \n",
       "5   188.00  2221  Under Construction    3       3.0  0.0  Virugambakkam   \n",
       "11  240.00  1500       Ready to move    3       3.0  1.0     Anna Nagar   \n",
       "15  113.00  2343       Ready to move    4       4.0  5.0       Navallur   \n",
       "\n",
       "                                 builder  price_per_sqft  \n",
       "3                 Dugar Housing Builders     4766.536965  \n",
       "4   Radiance Realty Developers India Ltd     7190.476190  \n",
       "5               Traventure Homes Pvt Ltd     8464.655561  \n",
       "11            Pushkar Properties Pvt Ltd    16000.000000  \n",
       "15                         Olympia Group     4822.876654  "
      ]
     },
     "execution_count": 97,
     "metadata": {},
     "output_type": "execute_result"
    }
   ],
   "source": [
    "df1.head()"
   ]
  },
  {
   "cell_type": "markdown",
   "id": "1067197b",
   "metadata": {},
   "source": [
    "## changing name as others to the builder  built less than 10 buildings\n"
   ]
  },
  {
   "cell_type": "code",
   "execution_count": 99,
   "id": "ef0de45b",
   "metadata": {},
   "outputs": [
    {
     "data": {
      "text/plain": [
       "builder\n",
       "seller                               134\n",
       "Propsource Realty Private Limited     44\n",
       "ARB HOMES                             42\n",
       "Karthick                              39\n",
       "JD Properties                         30\n",
       "                                    ... \n",
       "Isha Homes                             1\n",
       "INTERFACE PROPERTIES                   1\n",
       "Dugar Housing Builders                 1\n",
       "Dinesh                                 1\n",
       "Lifestyle Housing                      1\n",
       "Name: builder, Length: 63, dtype: int64"
      ]
     },
     "execution_count": 99,
     "metadata": {},
     "output_type": "execute_result"
    }
   ],
   "source": [
    "builder_stats=df1.groupby('builder')['builder'].agg('count').sort_values(ascending=False)\n",
    "builder_stats"
   ]
  },
  {
   "cell_type": "code",
   "execution_count": 107,
   "id": "fdbd2621",
   "metadata": {},
   "outputs": [
    {
     "data": {
      "text/plain": [
       "49"
      ]
     },
     "execution_count": 107,
     "metadata": {},
     "output_type": "execute_result"
    }
   ],
   "source": [
    "builders_lessthan_10=builder_stats[builder_stats<=10]\n",
    "len(builders_lessthan_10)"
   ]
  },
  {
   "cell_type": "code",
   "execution_count": 108,
   "id": "5ea0883c",
   "metadata": {},
   "outputs": [
    {
     "data": {
      "text/plain": [
       "63"
      ]
     },
     "execution_count": 108,
     "metadata": {},
     "output_type": "execute_result"
    }
   ],
   "source": [
    "len(df1.builder.unique())"
   ]
  },
  {
   "cell_type": "code",
   "execution_count": 109,
   "id": "a7bcf531",
   "metadata": {},
   "outputs": [
    {
     "name": "stderr",
     "output_type": "stream",
     "text": [
      "C:\\Users\\HP\\anaconda3\\lib\\site-packages\\pandas\\core\\generic.py:5494: SettingWithCopyWarning: \n",
      "A value is trying to be set on a copy of a slice from a DataFrame.\n",
      "Try using .loc[row_indexer,col_indexer] = value instead\n",
      "\n",
      "See the caveats in the documentation: https://pandas.pydata.org/pandas-docs/stable/user_guide/indexing.html#returning-a-view-versus-a-copy\n",
      "  self[name] = value\n"
     ]
    }
   ],
   "source": [
    "df1.builder=df1.builder.apply(lambda x:'other' if x in builders_lessthan_10 else x)"
   ]
  },
  {
   "cell_type": "code",
   "execution_count": 110,
   "id": "847b0a7e",
   "metadata": {},
   "outputs": [
    {
     "data": {
      "text/plain": [
       "15"
      ]
     },
     "execution_count": 110,
     "metadata": {},
     "output_type": "execute_result"
    }
   ],
   "source": [
    "len(df1.builder.unique())"
   ]
  },
  {
   "cell_type": "code",
   "execution_count": 116,
   "id": "68133997",
   "metadata": {},
   "outputs": [
    {
     "data": {
      "text/html": [
       "<div>\n",
       "<style scoped>\n",
       "    .dataframe tbody tr th:only-of-type {\n",
       "        vertical-align: middle;\n",
       "    }\n",
       "\n",
       "    .dataframe tbody tr th {\n",
       "        vertical-align: top;\n",
       "    }\n",
       "\n",
       "    .dataframe thead th {\n",
       "        text-align: right;\n",
       "    }\n",
       "</style>\n",
       "<table border=\"1\" class=\"dataframe\">\n",
       "  <thead>\n",
       "    <tr style=\"text-align: right;\">\n",
       "      <th></th>\n",
       "      <th>price</th>\n",
       "      <th>area</th>\n",
       "      <th>status</th>\n",
       "      <th>bhk</th>\n",
       "      <th>bathroom</th>\n",
       "      <th>age</th>\n",
       "      <th>location</th>\n",
       "      <th>builder</th>\n",
       "      <th>price_per_sqft</th>\n",
       "    </tr>\n",
       "  </thead>\n",
       "  <tbody>\n",
       "    <tr>\n",
       "      <th>3</th>\n",
       "      <td>49.00</td>\n",
       "      <td>1028</td>\n",
       "      <td>Ready to move</td>\n",
       "      <td>2</td>\n",
       "      <td>2.0</td>\n",
       "      <td>3.0</td>\n",
       "      <td>Ambattur</td>\n",
       "      <td>other</td>\n",
       "      <td>4766.536965</td>\n",
       "    </tr>\n",
       "    <tr>\n",
       "      <th>4</th>\n",
       "      <td>42.28</td>\n",
       "      <td>588</td>\n",
       "      <td>Under Construction</td>\n",
       "      <td>2</td>\n",
       "      <td>1.0</td>\n",
       "      <td>0.0</td>\n",
       "      <td>Pallavaram</td>\n",
       "      <td>other</td>\n",
       "      <td>7190.476190</td>\n",
       "    </tr>\n",
       "    <tr>\n",
       "      <th>5</th>\n",
       "      <td>188.00</td>\n",
       "      <td>2221</td>\n",
       "      <td>Under Construction</td>\n",
       "      <td>3</td>\n",
       "      <td>3.0</td>\n",
       "      <td>0.0</td>\n",
       "      <td>Virugambakkam</td>\n",
       "      <td>other</td>\n",
       "      <td>8464.655561</td>\n",
       "    </tr>\n",
       "    <tr>\n",
       "      <th>11</th>\n",
       "      <td>240.00</td>\n",
       "      <td>1500</td>\n",
       "      <td>Ready to move</td>\n",
       "      <td>3</td>\n",
       "      <td>3.0</td>\n",
       "      <td>1.0</td>\n",
       "      <td>Anna Nagar</td>\n",
       "      <td>other</td>\n",
       "      <td>16000.000000</td>\n",
       "    </tr>\n",
       "    <tr>\n",
       "      <th>15</th>\n",
       "      <td>113.00</td>\n",
       "      <td>2343</td>\n",
       "      <td>Ready to move</td>\n",
       "      <td>4</td>\n",
       "      <td>4.0</td>\n",
       "      <td>5.0</td>\n",
       "      <td>Navallur</td>\n",
       "      <td>other</td>\n",
       "      <td>4822.876654</td>\n",
       "    </tr>\n",
       "  </tbody>\n",
       "</table>\n",
       "</div>"
      ],
      "text/plain": [
       "     price  area              status  bhk  bathroom  age       location  \\\n",
       "3    49.00  1028       Ready to move    2       2.0  3.0       Ambattur   \n",
       "4    42.28   588  Under Construction    2       1.0  0.0     Pallavaram   \n",
       "5   188.00  2221  Under Construction    3       3.0  0.0  Virugambakkam   \n",
       "11  240.00  1500       Ready to move    3       3.0  1.0     Anna Nagar   \n",
       "15  113.00  2343       Ready to move    4       4.0  5.0       Navallur   \n",
       "\n",
       "   builder  price_per_sqft  \n",
       "3    other     4766.536965  \n",
       "4    other     7190.476190  \n",
       "5    other     8464.655561  \n",
       "11   other    16000.000000  \n",
       "15   other     4822.876654  "
      ]
     },
     "execution_count": 116,
     "metadata": {},
     "output_type": "execute_result"
    }
   ],
   "source": [
    "df1.head()"
   ]
  },
  {
   "cell_type": "code",
   "execution_count": 118,
   "id": "a6c2ddcf",
   "metadata": {},
   "outputs": [
    {
     "data": {
      "text/plain": [
       "740.3333333333334"
      ]
     },
     "execution_count": 118,
     "metadata": {},
     "output_type": "execute_result"
    }
   ],
   "source": [
    "2221/3"
   ]
  },
  {
   "cell_type": "code",
   "execution_count": 125,
   "id": "28a5fa32",
   "metadata": {},
   "outputs": [
    {
     "data": {
      "text/html": [
       "<div>\n",
       "<style scoped>\n",
       "    .dataframe tbody tr th:only-of-type {\n",
       "        vertical-align: middle;\n",
       "    }\n",
       "\n",
       "    .dataframe tbody tr th {\n",
       "        vertical-align: top;\n",
       "    }\n",
       "\n",
       "    .dataframe thead th {\n",
       "        text-align: right;\n",
       "    }\n",
       "</style>\n",
       "<table border=\"1\" class=\"dataframe\">\n",
       "  <thead>\n",
       "    <tr style=\"text-align: right;\">\n",
       "      <th></th>\n",
       "      <th>price</th>\n",
       "      <th>area</th>\n",
       "      <th>status</th>\n",
       "      <th>bhk</th>\n",
       "      <th>bathroom</th>\n",
       "      <th>age</th>\n",
       "      <th>location</th>\n",
       "      <th>builder</th>\n",
       "      <th>price_per_sqft</th>\n",
       "    </tr>\n",
       "  </thead>\n",
       "  <tbody>\n",
       "    <tr>\n",
       "      <th>4</th>\n",
       "      <td>42.28</td>\n",
       "      <td>588</td>\n",
       "      <td>Under Construction</td>\n",
       "      <td>2</td>\n",
       "      <td>1.0</td>\n",
       "      <td>0.0</td>\n",
       "      <td>Pallavaram</td>\n",
       "      <td>other</td>\n",
       "      <td>7190.47619</td>\n",
       "    </tr>\n",
       "    <tr>\n",
       "      <th>43</th>\n",
       "      <td>42.28</td>\n",
       "      <td>588</td>\n",
       "      <td>Under Construction</td>\n",
       "      <td>2</td>\n",
       "      <td>1.0</td>\n",
       "      <td>0.0</td>\n",
       "      <td>Pallavaram</td>\n",
       "      <td>other</td>\n",
       "      <td>7190.47619</td>\n",
       "    </tr>\n",
       "    <tr>\n",
       "      <th>567</th>\n",
       "      <td>42.28</td>\n",
       "      <td>588</td>\n",
       "      <td>Under Construction</td>\n",
       "      <td>2</td>\n",
       "      <td>1.0</td>\n",
       "      <td>0.0</td>\n",
       "      <td>Pallavaram</td>\n",
       "      <td>other</td>\n",
       "      <td>7190.47619</td>\n",
       "    </tr>\n",
       "    <tr>\n",
       "      <th>570</th>\n",
       "      <td>42.28</td>\n",
       "      <td>588</td>\n",
       "      <td>Under Construction</td>\n",
       "      <td>2</td>\n",
       "      <td>1.0</td>\n",
       "      <td>0.0</td>\n",
       "      <td>Pallavaram</td>\n",
       "      <td>other</td>\n",
       "      <td>7190.47619</td>\n",
       "    </tr>\n",
       "    <tr>\n",
       "      <th>571</th>\n",
       "      <td>42.28</td>\n",
       "      <td>588</td>\n",
       "      <td>Under Construction</td>\n",
       "      <td>2</td>\n",
       "      <td>1.0</td>\n",
       "      <td>0.0</td>\n",
       "      <td>Pallavaram</td>\n",
       "      <td>other</td>\n",
       "      <td>7190.47619</td>\n",
       "    </tr>\n",
       "  </tbody>\n",
       "</table>\n",
       "</div>"
      ],
      "text/plain": [
       "     price  area              status  bhk  bathroom  age    location builder  \\\n",
       "4    42.28   588  Under Construction    2       1.0  0.0  Pallavaram   other   \n",
       "43   42.28   588  Under Construction    2       1.0  0.0  Pallavaram   other   \n",
       "567  42.28   588  Under Construction    2       1.0  0.0  Pallavaram   other   \n",
       "570  42.28   588  Under Construction    2       1.0  0.0  Pallavaram   other   \n",
       "571  42.28   588  Under Construction    2       1.0  0.0  Pallavaram   other   \n",
       "\n",
       "     price_per_sqft  \n",
       "4        7190.47619  \n",
       "43       7190.47619  \n",
       "567      7190.47619  \n",
       "570      7190.47619  \n",
       "571      7190.47619  "
      ]
     },
     "execution_count": 125,
     "metadata": {},
     "output_type": "execute_result"
    }
   ],
   "source": [
    "df1[df1.area/df1.bhk<300].head()"
   ]
  },
  {
   "cell_type": "code",
   "execution_count": 126,
   "id": "51f1f0b4",
   "metadata": {},
   "outputs": [
    {
     "data": {
      "text/plain": [
       "(580, 9)"
      ]
     },
     "execution_count": 126,
     "metadata": {},
     "output_type": "execute_result"
    }
   ],
   "source": [
    "df1.shape"
   ]
  },
  {
   "cell_type": "code",
   "execution_count": 124,
   "id": "e87c00be",
   "metadata": {},
   "outputs": [
    {
     "data": {
      "text/plain": [
       "(569, 9)"
      ]
     },
     "execution_count": 124,
     "metadata": {},
     "output_type": "execute_result"
    }
   ],
   "source": [
    "df2=df1[~(df1.area/df1.bhk<300)]\n",
    "df2.shape"
   ]
  },
  {
   "cell_type": "code",
   "execution_count": 127,
   "id": "345a5363",
   "metadata": {},
   "outputs": [
    {
     "data": {
      "text/plain": [
       "count      569.000000\n",
       "mean      5876.196902\n",
       "std       2958.945276\n",
       "min       2200.000000\n",
       "25%       3984.615385\n",
       "50%       5097.513089\n",
       "75%       6759.776536\n",
       "max      21499.202552\n",
       "Name: price_per_sqft, dtype: float64"
      ]
     },
     "execution_count": 127,
     "metadata": {},
     "output_type": "execute_result"
    }
   ],
   "source": [
    "df2.price_per_sqft.describe()"
   ]
  },
  {
   "cell_type": "code",
   "execution_count": 128,
   "id": "484f709e",
   "metadata": {},
   "outputs": [
    {
     "data": {
      "text/plain": [
       "(439, 9)"
      ]
     },
     "execution_count": 128,
     "metadata": {},
     "output_type": "execute_result"
    }
   ],
   "source": [
    "def remove_outlier(df):\n",
    "    df_out=pd.DataFrame()\n",
    "    for key,subdf in df.groupby('location'):\n",
    "        m=np.mean(subdf.price_per_sqft)\n",
    "        st=np.std(subdf.price_per_sqft)\n",
    "        reduced_df=subdf[(subdf.price_per_sqft>(m-st))&(subdf.price_per_sqft<+(m+st))]\n",
    "        df_out=pd.concat([df_out,reduced_df],ignore_index=True)\n",
    "    return df_out\n",
    "df3=remove_outlier(df2)\n",
    "df3.shape\n",
    "\n",
    "\n",
    "    "
   ]
  },
  {
   "cell_type": "code",
   "execution_count": 132,
   "id": "5fb1d33b",
   "metadata": {},
   "outputs": [
    {
     "data": {
      "image/png": "[encoded data removed]",
      "text/plain": [
       "<Figure size 1080x720 with 1 Axes>"
      ]
     },
     "metadata": {
      "needs_background": "light"
     },
     "output_type": "display_data"
    }
   ],
   "source": [
    "def plot_scatter_chart(df,location):\n",
    "    bhk2 = df[(df.location==location) & (df.bhk==2)]\n",
    "    bhk3 = df[(df.location==location) & (df.bhk==3)]\n",
    "    matplotlib.rcParams['figure.figsize'] = (15,10)\n",
    "    plt.scatter(bhk2.area,bhk2.price,color='blue',label='2 BHK', s=50)\n",
    "    plt.scatter(bhk3.area,bhk3.price,marker='+', color='green',label='3 BHK', s=50)\n",
    "    plt.xlabel(\"Total Square Feet Area\")\n",
    "    plt.ylabel(\"Price (Lakh Indian Rupees)\")\n",
    "    plt.title(location)\n",
    "    plt.legend()\n",
    "    \n",
    "plot_scatter_chart(df3,\"Perungudi\")"
   ]
  },
  {
   "cell_type": "code",
   "execution_count": 133,
   "id": "1cee70d8",
   "metadata": {},
   "outputs": [
    {
     "data": {
      "text/plain": [
       "(377, 9)"
      ]
     },
     "execution_count": 133,
     "metadata": {},
     "output_type": "execute_result"
    }
   ],
   "source": [
    "def remove_bhk_outliers(df):\n",
    "    exclude_indices = np.array([])\n",
    "    for location, location_df in df.groupby('location'):\n",
    "        bhk_stats = {}\n",
    "        for bhk, bhk_df in location_df.groupby('bhk'):\n",
    "            bhk_stats[bhk] = {\n",
    "                'mean': np.mean(bhk_df.price_per_sqft),\n",
    "                'std': np.std(bhk_df.price_per_sqft),\n",
    "                'count': bhk_df.shape[0]\n",
    "            }\n",
    "        for bhk, bhk_df in location_df.groupby('bhk'):\n",
    "            stats = bhk_stats.get(bhk-1)\n",
    "            if stats and stats['count']>5:\n",
    "                exclude_indices = np.append(exclude_indices, bhk_df[bhk_df.price_per_sqft<(stats['mean'])].index.values)\n",
    "    return df.drop(exclude_indices,axis='index')\n",
    "df4 = remove_bhk_outliers(df3)\n",
    "df4.shape"
   ]
  },
  {
   "cell_type": "code",
   "execution_count": 134,
   "id": "658acf3c",
   "metadata": {},
   "outputs": [
    {
     "data": {
      "text/plain": [
       "Text(0, 0.5, 'Count')"
      ]
     },
     "execution_count": 134,
     "metadata": {},
     "output_type": "execute_result"
    },
    {
     "data": {
      "image/png": "[encoded data removed]",
      "text/plain": [
       "<Figure size 1440x720 with 1 Axes>"
      ]
     },
     "metadata": {
      "needs_background": "light"
     },
     "output_type": "display_data"
    }
   ],
   "source": [
    "import matplotlib\n",
    "matplotlib.rcParams[\"figure.figsize\"] = (20,10)\n",
    "plt.hist(df4.price_per_sqft,rwidth=0.8)\n",
    "plt.xlabel(\"Price Per Square Feet\")\n",
    "plt.ylabel(\"Count\")"
   ]
  },
  {
   "cell_type": "markdown",
   "id": "734ef92c",
   "metadata": {},
   "source": [
    "# Outlier Removal Using Bathrooms Feature\n"
   ]
  },
  {
   "cell_type": "code",
   "execution_count": 136,
   "id": "23fe4e61",
   "metadata": {},
   "outputs": [
    {
     "data": {
      "text/plain": [
       "Text(0, 0.5, 'Count')"
      ]
     },
     "execution_count": 136,
     "metadata": {},
     "output_type": "execute_result"
    },
    {
     "data": {
      "image/png": "[encoded data removed]",
      "text/plain": [
       "<Figure size 1440x720 with 1 Axes>"
      ]
     },
     "metadata": {
      "needs_background": "light"
     },
     "output_type": "display_data"
    }
   ],
   "source": [
    "plt.hist(df4.bathroom,rwidth=0.8)\n",
    "plt.xlabel(\"Number of bathrooms\")\n",
    "plt.ylabel(\"Count\")"
   ]
  },
  {
   "cell_type": "markdown",
   "id": "3e0abeef",
   "metadata": {},
   "source": [
    "It is unusual to have 2 more bathrooms than number of bedrooms in a home\n",
    "\n"
   ]
  },
  {
   "cell_type": "code",
   "execution_count": 142,
   "id": "79de9184",
   "metadata": {},
   "outputs": [
    {
     "data": {
      "text/plain": [
       "0"
      ]
     },
     "execution_count": 142,
     "metadata": {},
     "output_type": "execute_result"
    }
   ],
   "source": [
    "len(df4[df4.bathroom>df4.bhk+1])"
   ]
  },
  {
   "cell_type": "code",
   "execution_count": 143,
   "id": "29240298",
   "metadata": {},
   "outputs": [
    {
     "data": {
      "text/html": [
       "<div>\n",
       "<style scoped>\n",
       "    .dataframe tbody tr th:only-of-type {\n",
       "        vertical-align: middle;\n",
       "    }\n",
       "\n",
       "    .dataframe tbody tr th {\n",
       "        vertical-align: top;\n",
       "    }\n",
       "\n",
       "    .dataframe thead th {\n",
       "        text-align: right;\n",
       "    }\n",
       "</style>\n",
       "<table border=\"1\" class=\"dataframe\">\n",
       "  <thead>\n",
       "    <tr style=\"text-align: right;\">\n",
       "      <th></th>\n",
       "      <th>price</th>\n",
       "      <th>area</th>\n",
       "      <th>status</th>\n",
       "      <th>bhk</th>\n",
       "      <th>bathroom</th>\n",
       "      <th>age</th>\n",
       "      <th>location</th>\n",
       "      <th>builder</th>\n",
       "      <th>price_per_sqft</th>\n",
       "    </tr>\n",
       "  </thead>\n",
       "  <tbody>\n",
       "    <tr>\n",
       "      <th>0</th>\n",
       "      <td>75.0</td>\n",
       "      <td>1655</td>\n",
       "      <td>Ready to move</td>\n",
       "      <td>3</td>\n",
       "      <td>3.0</td>\n",
       "      <td>1.0</td>\n",
       "      <td>Agaramthen</td>\n",
       "      <td>MC Foundation</td>\n",
       "      <td>4531.722054</td>\n",
       "    </tr>\n",
       "    <tr>\n",
       "      <th>1</th>\n",
       "      <td>100.0</td>\n",
       "      <td>2100</td>\n",
       "      <td>Ready to move</td>\n",
       "      <td>3</td>\n",
       "      <td>3.0</td>\n",
       "      <td>1.0</td>\n",
       "      <td>Agaramthen</td>\n",
       "      <td>MC Foundation</td>\n",
       "      <td>4761.904762</td>\n",
       "    </tr>\n",
       "    <tr>\n",
       "      <th>2</th>\n",
       "      <td>95.0</td>\n",
       "      <td>2000</td>\n",
       "      <td>Ready to move</td>\n",
       "      <td>3</td>\n",
       "      <td>3.0</td>\n",
       "      <td>1.0</td>\n",
       "      <td>Agaramthen</td>\n",
       "      <td>MC Foundation</td>\n",
       "      <td>4750.000000</td>\n",
       "    </tr>\n",
       "    <tr>\n",
       "      <th>3</th>\n",
       "      <td>90.0</td>\n",
       "      <td>1900</td>\n",
       "      <td>Ready to move</td>\n",
       "      <td>3</td>\n",
       "      <td>3.0</td>\n",
       "      <td>1.0</td>\n",
       "      <td>Agaramthen</td>\n",
       "      <td>MC Foundation</td>\n",
       "      <td>4736.842105</td>\n",
       "    </tr>\n",
       "    <tr>\n",
       "      <th>4</th>\n",
       "      <td>85.0</td>\n",
       "      <td>1800</td>\n",
       "      <td>Ready to move</td>\n",
       "      <td>3</td>\n",
       "      <td>3.0</td>\n",
       "      <td>1.0</td>\n",
       "      <td>Agaramthen</td>\n",
       "      <td>MC Foundation</td>\n",
       "      <td>4722.222222</td>\n",
       "    </tr>\n",
       "  </tbody>\n",
       "</table>\n",
       "</div>"
      ],
      "text/plain": [
       "   price  area         status  bhk  bathroom  age    location        builder  \\\n",
       "0   75.0  1655  Ready to move    3       3.0  1.0  Agaramthen  MC Foundation   \n",
       "1  100.0  2100  Ready to move    3       3.0  1.0  Agaramthen  MC Foundation   \n",
       "2   95.0  2000  Ready to move    3       3.0  1.0  Agaramthen  MC Foundation   \n",
       "3   90.0  1900  Ready to move    3       3.0  1.0  Agaramthen  MC Foundation   \n",
       "4   85.0  1800  Ready to move    3       3.0  1.0  Agaramthen  MC Foundation   \n",
       "\n",
       "   price_per_sqft  \n",
       "0     4531.722054  \n",
       "1     4761.904762  \n",
       "2     4750.000000  \n",
       "3     4736.842105  \n",
       "4     4722.222222  "
      ]
     },
     "execution_count": 143,
     "metadata": {},
     "output_type": "execute_result"
    }
   ],
   "source": [
    "df4.head()"
   ]
  },
  {
   "cell_type": "code",
   "execution_count": 145,
   "id": "154a8540",
   "metadata": {},
   "outputs": [
    {
     "data": {
      "text/html": [
       "<div>\n",
       "<style scoped>\n",
       "    .dataframe tbody tr th:only-of-type {\n",
       "        vertical-align: middle;\n",
       "    }\n",
       "\n",
       "    .dataframe tbody tr th {\n",
       "        vertical-align: top;\n",
       "    }\n",
       "\n",
       "    .dataframe thead th {\n",
       "        text-align: right;\n",
       "    }\n",
       "</style>\n",
       "<table border=\"1\" class=\"dataframe\">\n",
       "  <thead>\n",
       "    <tr style=\"text-align: right;\">\n",
       "      <th></th>\n",
       "      <th>price</th>\n",
       "      <th>area</th>\n",
       "      <th>status</th>\n",
       "      <th>bhk</th>\n",
       "      <th>bathroom</th>\n",
       "      <th>age</th>\n",
       "      <th>location</th>\n",
       "      <th>builder</th>\n",
       "    </tr>\n",
       "  </thead>\n",
       "  <tbody>\n",
       "    <tr>\n",
       "      <th>0</th>\n",
       "      <td>75.0</td>\n",
       "      <td>1655</td>\n",
       "      <td>Ready to move</td>\n",
       "      <td>3</td>\n",
       "      <td>3.0</td>\n",
       "      <td>1.0</td>\n",
       "      <td>Agaramthen</td>\n",
       "      <td>MC Foundation</td>\n",
       "    </tr>\n",
       "    <tr>\n",
       "      <th>1</th>\n",
       "      <td>100.0</td>\n",
       "      <td>2100</td>\n",
       "      <td>Ready to move</td>\n",
       "      <td>3</td>\n",
       "      <td>3.0</td>\n",
       "      <td>1.0</td>\n",
       "      <td>Agaramthen</td>\n",
       "      <td>MC Foundation</td>\n",
       "    </tr>\n",
       "    <tr>\n",
       "      <th>2</th>\n",
       "      <td>95.0</td>\n",
       "      <td>2000</td>\n",
       "      <td>Ready to move</td>\n",
       "      <td>3</td>\n",
       "      <td>3.0</td>\n",
       "      <td>1.0</td>\n",
       "      <td>Agaramthen</td>\n",
       "      <td>MC Foundation</td>\n",
       "    </tr>\n",
       "  </tbody>\n",
       "</table>\n",
       "</div>"
      ],
      "text/plain": [
       "   price  area         status  bhk  bathroom  age    location        builder\n",
       "0   75.0  1655  Ready to move    3       3.0  1.0  Agaramthen  MC Foundation\n",
       "1  100.0  2100  Ready to move    3       3.0  1.0  Agaramthen  MC Foundation\n",
       "2   95.0  2000  Ready to move    3       3.0  1.0  Agaramthen  MC Foundation"
      ]
     },
     "execution_count": 145,
     "metadata": {},
     "output_type": "execute_result"
    }
   ],
   "source": [
    "df5 = df4.drop(['price_per_sqft'],axis='columns')\n",
    "df5.head(3)"
   ]
  },
  {
   "cell_type": "markdown",
   "id": "325b6f67",
   "metadata": {},
   "source": [
    "# Use One Hot Encoding For Location\n"
   ]
  },
  {
   "cell_type": "code",
   "execution_count": 146,
   "id": "8ba43d9c",
   "metadata": {},
   "outputs": [
    {
     "data": {
      "text/html": [
       "<div>\n",
       "<style scoped>\n",
       "    .dataframe tbody tr th:only-of-type {\n",
       "        vertical-align: middle;\n",
       "    }\n",
       "\n",
       "    .dataframe tbody tr th {\n",
       "        vertical-align: top;\n",
       "    }\n",
       "\n",
       "    .dataframe thead th {\n",
       "        text-align: right;\n",
       "    }\n",
       "</style>\n",
       "<table border=\"1\" class=\"dataframe\">\n",
       "  <thead>\n",
       "    <tr style=\"text-align: right;\">\n",
       "      <th></th>\n",
       "      <th>Agaramthen</th>\n",
       "      <th>Ambattur</th>\n",
       "      <th>Anna Nagar</th>\n",
       "      <th>Chromepet</th>\n",
       "      <th>Elandanur</th>\n",
       "      <th>Gerugambakkam</th>\n",
       "      <th>Iyyappanthangal</th>\n",
       "      <th>Karapakkam</th>\n",
       "      <th>Kattankulathur</th>\n",
       "      <th>Kelambakkam</th>\n",
       "      <th>...</th>\n",
       "      <th>Poonamallee</th>\n",
       "      <th>Porur</th>\n",
       "      <th>Sholinganallur</th>\n",
       "      <th>T Nagar</th>\n",
       "      <th>Thirumazhisai</th>\n",
       "      <th>Vadanemmeli</th>\n",
       "      <th>Vanagaram</th>\n",
       "      <th>Vengaivasal</th>\n",
       "      <th>Veppampattu</th>\n",
       "      <th>other</th>\n",
       "    </tr>\n",
       "  </thead>\n",
       "  <tbody>\n",
       "    <tr>\n",
       "      <th>0</th>\n",
       "      <td>1</td>\n",
       "      <td>0</td>\n",
       "      <td>0</td>\n",
       "      <td>0</td>\n",
       "      <td>0</td>\n",
       "      <td>0</td>\n",
       "      <td>0</td>\n",
       "      <td>0</td>\n",
       "      <td>0</td>\n",
       "      <td>0</td>\n",
       "      <td>...</td>\n",
       "      <td>0</td>\n",
       "      <td>0</td>\n",
       "      <td>0</td>\n",
       "      <td>0</td>\n",
       "      <td>0</td>\n",
       "      <td>0</td>\n",
       "      <td>0</td>\n",
       "      <td>0</td>\n",
       "      <td>0</td>\n",
       "      <td>0</td>\n",
       "    </tr>\n",
       "    <tr>\n",
       "      <th>1</th>\n",
       "      <td>1</td>\n",
       "      <td>0</td>\n",
       "      <td>0</td>\n",
       "      <td>0</td>\n",
       "      <td>0</td>\n",
       "      <td>0</td>\n",
       "      <td>0</td>\n",
       "      <td>0</td>\n",
       "      <td>0</td>\n",
       "      <td>0</td>\n",
       "      <td>...</td>\n",
       "      <td>0</td>\n",
       "      <td>0</td>\n",
       "      <td>0</td>\n",
       "      <td>0</td>\n",
       "      <td>0</td>\n",
       "      <td>0</td>\n",
       "      <td>0</td>\n",
       "      <td>0</td>\n",
       "      <td>0</td>\n",
       "      <td>0</td>\n",
       "    </tr>\n",
       "    <tr>\n",
       "      <th>2</th>\n",
       "      <td>1</td>\n",
       "      <td>0</td>\n",
       "      <td>0</td>\n",
       "      <td>0</td>\n",
       "      <td>0</td>\n",
       "      <td>0</td>\n",
       "      <td>0</td>\n",
       "      <td>0</td>\n",
       "      <td>0</td>\n",
       "      <td>0</td>\n",
       "      <td>...</td>\n",
       "      <td>0</td>\n",
       "      <td>0</td>\n",
       "      <td>0</td>\n",
       "      <td>0</td>\n",
       "      <td>0</td>\n",
       "      <td>0</td>\n",
       "      <td>0</td>\n",
       "      <td>0</td>\n",
       "      <td>0</td>\n",
       "      <td>0</td>\n",
       "    </tr>\n",
       "  </tbody>\n",
       "</table>\n",
       "<p>3 rows × 34 columns</p>\n",
       "</div>"
      ],
      "text/plain": [
       "   Agaramthen  Ambattur  Anna Nagar  Chromepet  Elandanur  Gerugambakkam  \\\n",
       "0           1         0           0          0          0              0   \n",
       "1           1         0           0          0          0              0   \n",
       "2           1         0           0          0          0              0   \n",
       "\n",
       "   Iyyappanthangal  Karapakkam  Kattankulathur  Kelambakkam  ...  Poonamallee  \\\n",
       "0                0           0               0            0  ...            0   \n",
       "1                0           0               0            0  ...            0   \n",
       "2                0           0               0            0  ...            0   \n",
       "\n",
       "   Porur  Sholinganallur  T Nagar  Thirumazhisai  Vadanemmeli  Vanagaram  \\\n",
       "0      0               0        0              0            0          0   \n",
       "1      0               0        0              0            0          0   \n",
       "2      0               0        0              0            0          0   \n",
       "\n",
       "   Vengaivasal  Veppampattu  other  \n",
       "0            0            0      0  \n",
       "1            0            0      0  \n",
       "2            0            0      0  \n",
       "\n",
       "[3 rows x 34 columns]"
      ]
     },
     "execution_count": 146,
     "metadata": {},
     "output_type": "execute_result"
    }
   ],
   "source": [
    "dummies = pd.get_dummies(df5.location)\n",
    "dummies.head(3)"
   ]
  },
  {
   "cell_type": "code",
   "execution_count": 147,
   "id": "481f13c8",
   "metadata": {},
   "outputs": [
    {
     "data": {
      "text/html": [
       "<div>\n",
       "<style scoped>\n",
       "    .dataframe tbody tr th:only-of-type {\n",
       "        vertical-align: middle;\n",
       "    }\n",
       "\n",
       "    .dataframe tbody tr th {\n",
       "        vertical-align: top;\n",
       "    }\n",
       "\n",
       "    .dataframe thead th {\n",
       "        text-align: right;\n",
       "    }\n",
       "</style>\n",
       "<table border=\"1\" class=\"dataframe\">\n",
       "  <thead>\n",
       "    <tr style=\"text-align: right;\">\n",
       "      <th></th>\n",
       "      <th>price</th>\n",
       "      <th>area</th>\n",
       "      <th>status</th>\n",
       "      <th>bhk</th>\n",
       "      <th>bathroom</th>\n",
       "      <th>age</th>\n",
       "      <th>location</th>\n",
       "      <th>builder</th>\n",
       "      <th>Agaramthen</th>\n",
       "      <th>Ambattur</th>\n",
       "      <th>...</th>\n",
       "      <th>Perungudi</th>\n",
       "      <th>Poonamallee</th>\n",
       "      <th>Porur</th>\n",
       "      <th>Sholinganallur</th>\n",
       "      <th>T Nagar</th>\n",
       "      <th>Thirumazhisai</th>\n",
       "      <th>Vadanemmeli</th>\n",
       "      <th>Vanagaram</th>\n",
       "      <th>Vengaivasal</th>\n",
       "      <th>Veppampattu</th>\n",
       "    </tr>\n",
       "  </thead>\n",
       "  <tbody>\n",
       "    <tr>\n",
       "      <th>0</th>\n",
       "      <td>75.0</td>\n",
       "      <td>1655</td>\n",
       "      <td>Ready to move</td>\n",
       "      <td>3</td>\n",
       "      <td>3.0</td>\n",
       "      <td>1.0</td>\n",
       "      <td>Agaramthen</td>\n",
       "      <td>MC Foundation</td>\n",
       "      <td>1</td>\n",
       "      <td>0</td>\n",
       "      <td>...</td>\n",
       "      <td>0</td>\n",
       "      <td>0</td>\n",
       "      <td>0</td>\n",
       "      <td>0</td>\n",
       "      <td>0</td>\n",
       "      <td>0</td>\n",
       "      <td>0</td>\n",
       "      <td>0</td>\n",
       "      <td>0</td>\n",
       "      <td>0</td>\n",
       "    </tr>\n",
       "    <tr>\n",
       "      <th>1</th>\n",
       "      <td>100.0</td>\n",
       "      <td>2100</td>\n",
       "      <td>Ready to move</td>\n",
       "      <td>3</td>\n",
       "      <td>3.0</td>\n",
       "      <td>1.0</td>\n",
       "      <td>Agaramthen</td>\n",
       "      <td>MC Foundation</td>\n",
       "      <td>1</td>\n",
       "      <td>0</td>\n",
       "      <td>...</td>\n",
       "      <td>0</td>\n",
       "      <td>0</td>\n",
       "      <td>0</td>\n",
       "      <td>0</td>\n",
       "      <td>0</td>\n",
       "      <td>0</td>\n",
       "      <td>0</td>\n",
       "      <td>0</td>\n",
       "      <td>0</td>\n",
       "      <td>0</td>\n",
       "    </tr>\n",
       "    <tr>\n",
       "      <th>2</th>\n",
       "      <td>95.0</td>\n",
       "      <td>2000</td>\n",
       "      <td>Ready to move</td>\n",
       "      <td>3</td>\n",
       "      <td>3.0</td>\n",
       "      <td>1.0</td>\n",
       "      <td>Agaramthen</td>\n",
       "      <td>MC Foundation</td>\n",
       "      <td>1</td>\n",
       "      <td>0</td>\n",
       "      <td>...</td>\n",
       "      <td>0</td>\n",
       "      <td>0</td>\n",
       "      <td>0</td>\n",
       "      <td>0</td>\n",
       "      <td>0</td>\n",
       "      <td>0</td>\n",
       "      <td>0</td>\n",
       "      <td>0</td>\n",
       "      <td>0</td>\n",
       "      <td>0</td>\n",
       "    </tr>\n",
       "    <tr>\n",
       "      <th>3</th>\n",
       "      <td>90.0</td>\n",
       "      <td>1900</td>\n",
       "      <td>Ready to move</td>\n",
       "      <td>3</td>\n",
       "      <td>3.0</td>\n",
       "      <td>1.0</td>\n",
       "      <td>Agaramthen</td>\n",
       "      <td>MC Foundation</td>\n",
       "      <td>1</td>\n",
       "      <td>0</td>\n",
       "      <td>...</td>\n",
       "      <td>0</td>\n",
       "      <td>0</td>\n",
       "      <td>0</td>\n",
       "      <td>0</td>\n",
       "      <td>0</td>\n",
       "      <td>0</td>\n",
       "      <td>0</td>\n",
       "      <td>0</td>\n",
       "      <td>0</td>\n",
       "      <td>0</td>\n",
       "    </tr>\n",
       "    <tr>\n",
       "      <th>4</th>\n",
       "      <td>85.0</td>\n",
       "      <td>1800</td>\n",
       "      <td>Ready to move</td>\n",
       "      <td>3</td>\n",
       "      <td>3.0</td>\n",
       "      <td>1.0</td>\n",
       "      <td>Agaramthen</td>\n",
       "      <td>MC Foundation</td>\n",
       "      <td>1</td>\n",
       "      <td>0</td>\n",
       "      <td>...</td>\n",
       "      <td>0</td>\n",
       "      <td>0</td>\n",
       "      <td>0</td>\n",
       "      <td>0</td>\n",
       "      <td>0</td>\n",
       "      <td>0</td>\n",
       "      <td>0</td>\n",
       "      <td>0</td>\n",
       "      <td>0</td>\n",
       "      <td>0</td>\n",
       "    </tr>\n",
       "  </tbody>\n",
       "</table>\n",
       "<p>5 rows × 41 columns</p>\n",
       "</div>"
      ],
      "text/plain": [
       "   price  area         status  bhk  bathroom  age    location        builder  \\\n",
       "0   75.0  1655  Ready to move    3       3.0  1.0  Agaramthen  MC Foundation   \n",
       "1  100.0  2100  Ready to move    3       3.0  1.0  Agaramthen  MC Foundation   \n",
       "2   95.0  2000  Ready to move    3       3.0  1.0  Agaramthen  MC Foundation   \n",
       "3   90.0  1900  Ready to move    3       3.0  1.0  Agaramthen  MC Foundation   \n",
       "4   85.0  1800  Ready to move    3       3.0  1.0  Agaramthen  MC Foundation   \n",
       "\n",
       "   Agaramthen  Ambattur  ...  Perungudi  Poonamallee  Porur  Sholinganallur  \\\n",
       "0           1         0  ...          0            0      0               0   \n",
       "1           1         0  ...          0            0      0               0   \n",
       "2           1         0  ...          0            0      0               0   \n",
       "3           1         0  ...          0            0      0               0   \n",
       "4           1         0  ...          0            0      0               0   \n",
       "\n",
       "   T Nagar  Thirumazhisai  Vadanemmeli  Vanagaram  Vengaivasal  Veppampattu  \n",
       "0        0              0            0          0            0            0  \n",
       "1        0              0            0          0            0            0  \n",
       "2        0              0            0          0            0            0  \n",
       "3        0              0            0          0            0            0  \n",
       "4        0              0            0          0            0            0  \n",
       "\n",
       "[5 rows x 41 columns]"
      ]
     },
     "execution_count": 147,
     "metadata": {},
     "output_type": "execute_result"
    }
   ],
   "source": [
    "df6 = pd.concat([df5,dummies.drop('other',axis='columns')],axis='columns')\n",
    "df6.head()"
   ]
  },
  {
   "cell_type": "markdown",
   "id": "45da79be",
   "metadata": {},
   "source": [
    "# Use One Hot Encoding For status,builder\n"
   ]
  },
  {
   "cell_type": "code",
   "execution_count": 148,
   "id": "4c18552b",
   "metadata": {},
   "outputs": [
    {
     "data": {
      "text/html": [
       "<div>\n",
       "<style scoped>\n",
       "    .dataframe tbody tr th:only-of-type {\n",
       "        vertical-align: middle;\n",
       "    }\n",
       "\n",
       "    .dataframe tbody tr th {\n",
       "        vertical-align: top;\n",
       "    }\n",
       "\n",
       "    .dataframe thead th {\n",
       "        text-align: right;\n",
       "    }\n",
       "</style>\n",
       "<table border=\"1\" class=\"dataframe\">\n",
       "  <thead>\n",
       "    <tr style=\"text-align: right;\">\n",
       "      <th></th>\n",
       "      <th>Ready to move</th>\n",
       "      <th>Under Construction</th>\n",
       "    </tr>\n",
       "  </thead>\n",
       "  <tbody>\n",
       "    <tr>\n",
       "      <th>0</th>\n",
       "      <td>1</td>\n",
       "      <td>0</td>\n",
       "    </tr>\n",
       "    <tr>\n",
       "      <th>1</th>\n",
       "      <td>1</td>\n",
       "      <td>0</td>\n",
       "    </tr>\n",
       "    <tr>\n",
       "      <th>2</th>\n",
       "      <td>1</td>\n",
       "      <td>0</td>\n",
       "    </tr>\n",
       "  </tbody>\n",
       "</table>\n",
       "</div>"
      ],
      "text/plain": [
       "   Ready to move  Under Construction\n",
       "0              1                   0\n",
       "1              1                   0\n",
       "2              1                   0"
      ]
     },
     "execution_count": 148,
     "metadata": {},
     "output_type": "execute_result"
    }
   ],
   "source": [
    "dummies1 = pd.get_dummies(df5.status)\n",
    "dummies1.head(3)"
   ]
  },
  {
   "cell_type": "code",
   "execution_count": 149,
   "id": "ad213f1a",
   "metadata": {},
   "outputs": [
    {
     "data": {
      "text/html": [
       "<div>\n",
       "<style scoped>\n",
       "    .dataframe tbody tr th:only-of-type {\n",
       "        vertical-align: middle;\n",
       "    }\n",
       "\n",
       "    .dataframe tbody tr th {\n",
       "        vertical-align: top;\n",
       "    }\n",
       "\n",
       "    .dataframe thead th {\n",
       "        text-align: right;\n",
       "    }\n",
       "</style>\n",
       "<table border=\"1\" class=\"dataframe\">\n",
       "  <thead>\n",
       "    <tr style=\"text-align: right;\">\n",
       "      <th></th>\n",
       "      <th>24K Realtors</th>\n",
       "      <th>ARB HOMES</th>\n",
       "      <th>Casagrand Builder Private Limited</th>\n",
       "      <th>JD Properties</th>\n",
       "      <th>Karthick</th>\n",
       "      <th>Kkk Landmark</th>\n",
       "      <th>MC Foundation</th>\n",
       "      <th>Pacifica Companies</th>\n",
       "      <th>Prestige Estates Projects Ltd</th>\n",
       "      <th>Propsource Realty Private Limited</th>\n",
       "      <th>Saradeuz Realty Constructions</th>\n",
       "      <th>Velan Housing Properties</th>\n",
       "      <th>other</th>\n",
       "      <th>seller</th>\n",
       "      <th>viswaraj</th>\n",
       "    </tr>\n",
       "  </thead>\n",
       "  <tbody>\n",
       "    <tr>\n",
       "      <th>0</th>\n",
       "      <td>0</td>\n",
       "      <td>0</td>\n",
       "      <td>0</td>\n",
       "      <td>0</td>\n",
       "      <td>0</td>\n",
       "      <td>0</td>\n",
       "      <td>1</td>\n",
       "      <td>0</td>\n",
       "      <td>0</td>\n",
       "      <td>0</td>\n",
       "      <td>0</td>\n",
       "      <td>0</td>\n",
       "      <td>0</td>\n",
       "      <td>0</td>\n",
       "      <td>0</td>\n",
       "    </tr>\n",
       "    <tr>\n",
       "      <th>1</th>\n",
       "      <td>0</td>\n",
       "      <td>0</td>\n",
       "      <td>0</td>\n",
       "      <td>0</td>\n",
       "      <td>0</td>\n",
       "      <td>0</td>\n",
       "      <td>1</td>\n",
       "      <td>0</td>\n",
       "      <td>0</td>\n",
       "      <td>0</td>\n",
       "      <td>0</td>\n",
       "      <td>0</td>\n",
       "      <td>0</td>\n",
       "      <td>0</td>\n",
       "      <td>0</td>\n",
       "    </tr>\n",
       "    <tr>\n",
       "      <th>2</th>\n",
       "      <td>0</td>\n",
       "      <td>0</td>\n",
       "      <td>0</td>\n",
       "      <td>0</td>\n",
       "      <td>0</td>\n",
       "      <td>0</td>\n",
       "      <td>1</td>\n",
       "      <td>0</td>\n",
       "      <td>0</td>\n",
       "      <td>0</td>\n",
       "      <td>0</td>\n",
       "      <td>0</td>\n",
       "      <td>0</td>\n",
       "      <td>0</td>\n",
       "      <td>0</td>\n",
       "    </tr>\n",
       "  </tbody>\n",
       "</table>\n",
       "</div>"
      ],
      "text/plain": [
       "   24K Realtors  ARB HOMES  Casagrand Builder Private Limited  JD Properties  \\\n",
       "0             0          0                                  0              0   \n",
       "1             0          0                                  0              0   \n",
       "2             0          0                                  0              0   \n",
       "\n",
       "   Karthick  Kkk Landmark  MC Foundation  Pacifica Companies  \\\n",
       "0         0             0              1                   0   \n",
       "1         0             0              1                   0   \n",
       "2         0             0              1                   0   \n",
       "\n",
       "   Prestige Estates Projects Ltd  Propsource Realty Private Limited  \\\n",
       "0                              0                                  0   \n",
       "1                              0                                  0   \n",
       "2                              0                                  0   \n",
       "\n",
       "   Saradeuz Realty Constructions  Velan Housing Properties  other  seller  \\\n",
       "0                              0                         0      0       0   \n",
       "1                              0                         0      0       0   \n",
       "2                              0                         0      0       0   \n",
       "\n",
       "   viswaraj  \n",
       "0         0  \n",
       "1         0  \n",
       "2         0  "
      ]
     },
     "execution_count": 149,
     "metadata": {},
     "output_type": "execute_result"
    }
   ],
   "source": [
    "dummies2 = pd.get_dummies(df5.builder)\n",
    "dummies2.head(3)"
   ]
  },
  {
   "cell_type": "code",
   "execution_count": 150,
   "id": "b7603de3",
   "metadata": {},
   "outputs": [
    {
     "data": {
      "text/html": [
       "<div>\n",
       "<style scoped>\n",
       "    .dataframe tbody tr th:only-of-type {\n",
       "        vertical-align: middle;\n",
       "    }\n",
       "\n",
       "    .dataframe tbody tr th {\n",
       "        vertical-align: top;\n",
       "    }\n",
       "\n",
       "    .dataframe thead th {\n",
       "        text-align: right;\n",
       "    }\n",
       "</style>\n",
       "<table border=\"1\" class=\"dataframe\">\n",
       "  <thead>\n",
       "    <tr style=\"text-align: right;\">\n",
       "      <th></th>\n",
       "      <th>price</th>\n",
       "      <th>area</th>\n",
       "      <th>status</th>\n",
       "      <th>bhk</th>\n",
       "      <th>bathroom</th>\n",
       "      <th>age</th>\n",
       "      <th>location</th>\n",
       "      <th>builder</th>\n",
       "      <th>Agaramthen</th>\n",
       "      <th>Ambattur</th>\n",
       "      <th>...</th>\n",
       "      <th>Karthick</th>\n",
       "      <th>Kkk Landmark</th>\n",
       "      <th>MC Foundation</th>\n",
       "      <th>Pacifica Companies</th>\n",
       "      <th>Prestige Estates Projects Ltd</th>\n",
       "      <th>Propsource Realty Private Limited</th>\n",
       "      <th>Saradeuz Realty Constructions</th>\n",
       "      <th>Velan Housing Properties</th>\n",
       "      <th>seller</th>\n",
       "      <th>viswaraj</th>\n",
       "    </tr>\n",
       "  </thead>\n",
       "  <tbody>\n",
       "    <tr>\n",
       "      <th>0</th>\n",
       "      <td>75.0</td>\n",
       "      <td>1655</td>\n",
       "      <td>Ready to move</td>\n",
       "      <td>3</td>\n",
       "      <td>3.0</td>\n",
       "      <td>1.0</td>\n",
       "      <td>Agaramthen</td>\n",
       "      <td>MC Foundation</td>\n",
       "      <td>1</td>\n",
       "      <td>0</td>\n",
       "      <td>...</td>\n",
       "      <td>0</td>\n",
       "      <td>0</td>\n",
       "      <td>1</td>\n",
       "      <td>0</td>\n",
       "      <td>0</td>\n",
       "      <td>0</td>\n",
       "      <td>0</td>\n",
       "      <td>0</td>\n",
       "      <td>0</td>\n",
       "      <td>0</td>\n",
       "    </tr>\n",
       "    <tr>\n",
       "      <th>1</th>\n",
       "      <td>100.0</td>\n",
       "      <td>2100</td>\n",
       "      <td>Ready to move</td>\n",
       "      <td>3</td>\n",
       "      <td>3.0</td>\n",
       "      <td>1.0</td>\n",
       "      <td>Agaramthen</td>\n",
       "      <td>MC Foundation</td>\n",
       "      <td>1</td>\n",
       "      <td>0</td>\n",
       "      <td>...</td>\n",
       "      <td>0</td>\n",
       "      <td>0</td>\n",
       "      <td>1</td>\n",
       "      <td>0</td>\n",
       "      <td>0</td>\n",
       "      <td>0</td>\n",
       "      <td>0</td>\n",
       "      <td>0</td>\n",
       "      <td>0</td>\n",
       "      <td>0</td>\n",
       "    </tr>\n",
       "    <tr>\n",
       "      <th>2</th>\n",
       "      <td>95.0</td>\n",
       "      <td>2000</td>\n",
       "      <td>Ready to move</td>\n",
       "      <td>3</td>\n",
       "      <td>3.0</td>\n",
       "      <td>1.0</td>\n",
       "      <td>Agaramthen</td>\n",
       "      <td>MC Foundation</td>\n",
       "      <td>1</td>\n",
       "      <td>0</td>\n",
       "      <td>...</td>\n",
       "      <td>0</td>\n",
       "      <td>0</td>\n",
       "      <td>1</td>\n",
       "      <td>0</td>\n",
       "      <td>0</td>\n",
       "      <td>0</td>\n",
       "      <td>0</td>\n",
       "      <td>0</td>\n",
       "      <td>0</td>\n",
       "      <td>0</td>\n",
       "    </tr>\n",
       "    <tr>\n",
       "      <th>3</th>\n",
       "      <td>90.0</td>\n",
       "      <td>1900</td>\n",
       "      <td>Ready to move</td>\n",
       "      <td>3</td>\n",
       "      <td>3.0</td>\n",
       "      <td>1.0</td>\n",
       "      <td>Agaramthen</td>\n",
       "      <td>MC Foundation</td>\n",
       "      <td>1</td>\n",
       "      <td>0</td>\n",
       "      <td>...</td>\n",
       "      <td>0</td>\n",
       "      <td>0</td>\n",
       "      <td>1</td>\n",
       "      <td>0</td>\n",
       "      <td>0</td>\n",
       "      <td>0</td>\n",
       "      <td>0</td>\n",
       "      <td>0</td>\n",
       "      <td>0</td>\n",
       "      <td>0</td>\n",
       "    </tr>\n",
       "    <tr>\n",
       "      <th>4</th>\n",
       "      <td>85.0</td>\n",
       "      <td>1800</td>\n",
       "      <td>Ready to move</td>\n",
       "      <td>3</td>\n",
       "      <td>3.0</td>\n",
       "      <td>1.0</td>\n",
       "      <td>Agaramthen</td>\n",
       "      <td>MC Foundation</td>\n",
       "      <td>1</td>\n",
       "      <td>0</td>\n",
       "      <td>...</td>\n",
       "      <td>0</td>\n",
       "      <td>0</td>\n",
       "      <td>1</td>\n",
       "      <td>0</td>\n",
       "      <td>0</td>\n",
       "      <td>0</td>\n",
       "      <td>0</td>\n",
       "      <td>0</td>\n",
       "      <td>0</td>\n",
       "      <td>0</td>\n",
       "    </tr>\n",
       "  </tbody>\n",
       "</table>\n",
       "<p>5 rows × 57 columns</p>\n",
       "</div>"
      ],
      "text/plain": [
       "   price  area         status  bhk  bathroom  age    location        builder  \\\n",
       "0   75.0  1655  Ready to move    3       3.0  1.0  Agaramthen  MC Foundation   \n",
       "1  100.0  2100  Ready to move    3       3.0  1.0  Agaramthen  MC Foundation   \n",
       "2   95.0  2000  Ready to move    3       3.0  1.0  Agaramthen  MC Foundation   \n",
       "3   90.0  1900  Ready to move    3       3.0  1.0  Agaramthen  MC Foundation   \n",
       "4   85.0  1800  Ready to move    3       3.0  1.0  Agaramthen  MC Foundation   \n",
       "\n",
       "   Agaramthen  Ambattur  ...  Karthick  Kkk Landmark  MC Foundation  \\\n",
       "0           1         0  ...         0             0              1   \n",
       "1           1         0  ...         0             0              1   \n",
       "2           1         0  ...         0             0              1   \n",
       "3           1         0  ...         0             0              1   \n",
       "4           1         0  ...         0             0              1   \n",
       "\n",
       "   Pacifica Companies  Prestige Estates Projects Ltd  \\\n",
       "0                   0                              0   \n",
       "1                   0                              0   \n",
       "2                   0                              0   \n",
       "3                   0                              0   \n",
       "4                   0                              0   \n",
       "\n",
       "   Propsource Realty Private Limited  Saradeuz Realty Constructions  \\\n",
       "0                                  0                              0   \n",
       "1                                  0                              0   \n",
       "2                                  0                              0   \n",
       "3                                  0                              0   \n",
       "4                                  0                              0   \n",
       "\n",
       "   Velan Housing Properties  seller  viswaraj  \n",
       "0                         0       0         0  \n",
       "1                         0       0         0  \n",
       "2                         0       0         0  \n",
       "3                         0       0         0  \n",
       "4                         0       0         0  \n",
       "\n",
       "[5 rows x 57 columns]"
      ]
     },
     "execution_count": 150,
     "metadata": {},
     "output_type": "execute_result"
    }
   ],
   "source": [
    "df7 = pd.concat([df6,dummies1,dummies2.drop('other',axis='columns')],axis='columns')\n",
    "df7.head()"
   ]
  },
  {
   "cell_type": "code",
   "execution_count": 152,
   "id": "dcdb797a",
   "metadata": {},
   "outputs": [
    {
     "data": {
      "text/html": [
       "<div>\n",
       "<style scoped>\n",
       "    .dataframe tbody tr th:only-of-type {\n",
       "        vertical-align: middle;\n",
       "    }\n",
       "\n",
       "    .dataframe tbody tr th {\n",
       "        vertical-align: top;\n",
       "    }\n",
       "\n",
       "    .dataframe thead th {\n",
       "        text-align: right;\n",
       "    }\n",
       "</style>\n",
       "<table border=\"1\" class=\"dataframe\">\n",
       "  <thead>\n",
       "    <tr style=\"text-align: right;\">\n",
       "      <th></th>\n",
       "      <th>price</th>\n",
       "      <th>area</th>\n",
       "      <th>bhk</th>\n",
       "      <th>bathroom</th>\n",
       "      <th>age</th>\n",
       "      <th>Agaramthen</th>\n",
       "      <th>Ambattur</th>\n",
       "      <th>Anna Nagar</th>\n",
       "      <th>Chromepet</th>\n",
       "      <th>Elandanur</th>\n",
       "      <th>...</th>\n",
       "      <th>Karthick</th>\n",
       "      <th>Kkk Landmark</th>\n",
       "      <th>MC Foundation</th>\n",
       "      <th>Pacifica Companies</th>\n",
       "      <th>Prestige Estates Projects Ltd</th>\n",
       "      <th>Propsource Realty Private Limited</th>\n",
       "      <th>Saradeuz Realty Constructions</th>\n",
       "      <th>Velan Housing Properties</th>\n",
       "      <th>seller</th>\n",
       "      <th>viswaraj</th>\n",
       "    </tr>\n",
       "  </thead>\n",
       "  <tbody>\n",
       "    <tr>\n",
       "      <th>0</th>\n",
       "      <td>75.0</td>\n",
       "      <td>1655</td>\n",
       "      <td>3</td>\n",
       "      <td>3.0</td>\n",
       "      <td>1.0</td>\n",
       "      <td>1</td>\n",
       "      <td>0</td>\n",
       "      <td>0</td>\n",
       "      <td>0</td>\n",
       "      <td>0</td>\n",
       "      <td>...</td>\n",
       "      <td>0</td>\n",
       "      <td>0</td>\n",
       "      <td>1</td>\n",
       "      <td>0</td>\n",
       "      <td>0</td>\n",
       "      <td>0</td>\n",
       "      <td>0</td>\n",
       "      <td>0</td>\n",
       "      <td>0</td>\n",
       "      <td>0</td>\n",
       "    </tr>\n",
       "    <tr>\n",
       "      <th>1</th>\n",
       "      <td>100.0</td>\n",
       "      <td>2100</td>\n",
       "      <td>3</td>\n",
       "      <td>3.0</td>\n",
       "      <td>1.0</td>\n",
       "      <td>1</td>\n",
       "      <td>0</td>\n",
       "      <td>0</td>\n",
       "      <td>0</td>\n",
       "      <td>0</td>\n",
       "      <td>...</td>\n",
       "      <td>0</td>\n",
       "      <td>0</td>\n",
       "      <td>1</td>\n",
       "      <td>0</td>\n",
       "      <td>0</td>\n",
       "      <td>0</td>\n",
       "      <td>0</td>\n",
       "      <td>0</td>\n",
       "      <td>0</td>\n",
       "      <td>0</td>\n",
       "    </tr>\n",
       "  </tbody>\n",
       "</table>\n",
       "<p>2 rows × 54 columns</p>\n",
       "</div>"
      ],
      "text/plain": [
       "   price  area  bhk  bathroom  age  Agaramthen  Ambattur  Anna Nagar  \\\n",
       "0   75.0  1655    3       3.0  1.0           1         0           0   \n",
       "1  100.0  2100    3       3.0  1.0           1         0           0   \n",
       "\n",
       "   Chromepet  Elandanur  ...  Karthick  Kkk Landmark  MC Foundation  \\\n",
       "0          0          0  ...         0             0              1   \n",
       "1          0          0  ...         0             0              1   \n",
       "\n",
       "   Pacifica Companies  Prestige Estates Projects Ltd  \\\n",
       "0                   0                              0   \n",
       "1                   0                              0   \n",
       "\n",
       "   Propsource Realty Private Limited  Saradeuz Realty Constructions  \\\n",
       "0                                  0                              0   \n",
       "1                                  0                              0   \n",
       "\n",
       "   Velan Housing Properties  seller  viswaraj  \n",
       "0                         0       0         0  \n",
       "1                         0       0         0  \n",
       "\n",
       "[2 rows x 54 columns]"
      ]
     },
     "execution_count": 152,
     "metadata": {},
     "output_type": "execute_result"
    }
   ],
   "source": [
    "df8 = df7.drop(['location','builder','status'],axis='columns')\n",
    "df8.head(2)"
   ]
  },
  {
   "cell_type": "markdown",
   "id": "108c5f40",
   "metadata": {},
   "source": [
    "# Build a Model Now..."
   ]
  },
  {
   "cell_type": "code",
   "execution_count": 153,
   "id": "a3e70a2a",
   "metadata": {},
   "outputs": [
    {
     "data": {
      "text/html": [
       "<div>\n",
       "<style scoped>\n",
       "    .dataframe tbody tr th:only-of-type {\n",
       "        vertical-align: middle;\n",
       "    }\n",
       "\n",
       "    .dataframe tbody tr th {\n",
       "        vertical-align: top;\n",
       "    }\n",
       "\n",
       "    .dataframe thead th {\n",
       "        text-align: right;\n",
       "    }\n",
       "</style>\n",
       "<table border=\"1\" class=\"dataframe\">\n",
       "  <thead>\n",
       "    <tr style=\"text-align: right;\">\n",
       "      <th></th>\n",
       "      <th>area</th>\n",
       "      <th>bhk</th>\n",
       "      <th>bathroom</th>\n",
       "      <th>age</th>\n",
       "      <th>Agaramthen</th>\n",
       "      <th>Ambattur</th>\n",
       "      <th>Anna Nagar</th>\n",
       "      <th>Chromepet</th>\n",
       "      <th>Elandanur</th>\n",
       "      <th>Gerugambakkam</th>\n",
       "      <th>...</th>\n",
       "      <th>Karthick</th>\n",
       "      <th>Kkk Landmark</th>\n",
       "      <th>MC Foundation</th>\n",
       "      <th>Pacifica Companies</th>\n",
       "      <th>Prestige Estates Projects Ltd</th>\n",
       "      <th>Propsource Realty Private Limited</th>\n",
       "      <th>Saradeuz Realty Constructions</th>\n",
       "      <th>Velan Housing Properties</th>\n",
       "      <th>seller</th>\n",
       "      <th>viswaraj</th>\n",
       "    </tr>\n",
       "  </thead>\n",
       "  <tbody>\n",
       "    <tr>\n",
       "      <th>0</th>\n",
       "      <td>1655</td>\n",
       "      <td>3</td>\n",
       "      <td>3.0</td>\n",
       "      <td>1.0</td>\n",
       "      <td>1</td>\n",
       "      <td>0</td>\n",
       "      <td>0</td>\n",
       "      <td>0</td>\n",
       "      <td>0</td>\n",
       "      <td>0</td>\n",
       "      <td>...</td>\n",
       "      <td>0</td>\n",
       "      <td>0</td>\n",
       "      <td>1</td>\n",
       "      <td>0</td>\n",
       "      <td>0</td>\n",
       "      <td>0</td>\n",
       "      <td>0</td>\n",
       "      <td>0</td>\n",
       "      <td>0</td>\n",
       "      <td>0</td>\n",
       "    </tr>\n",
       "    <tr>\n",
       "      <th>1</th>\n",
       "      <td>2100</td>\n",
       "      <td>3</td>\n",
       "      <td>3.0</td>\n",
       "      <td>1.0</td>\n",
       "      <td>1</td>\n",
       "      <td>0</td>\n",
       "      <td>0</td>\n",
       "      <td>0</td>\n",
       "      <td>0</td>\n",
       "      <td>0</td>\n",
       "      <td>...</td>\n",
       "      <td>0</td>\n",
       "      <td>0</td>\n",
       "      <td>1</td>\n",
       "      <td>0</td>\n",
       "      <td>0</td>\n",
       "      <td>0</td>\n",
       "      <td>0</td>\n",
       "      <td>0</td>\n",
       "      <td>0</td>\n",
       "      <td>0</td>\n",
       "    </tr>\n",
       "    <tr>\n",
       "      <th>2</th>\n",
       "      <td>2000</td>\n",
       "      <td>3</td>\n",
       "      <td>3.0</td>\n",
       "      <td>1.0</td>\n",
       "      <td>1</td>\n",
       "      <td>0</td>\n",
       "      <td>0</td>\n",
       "      <td>0</td>\n",
       "      <td>0</td>\n",
       "      <td>0</td>\n",
       "      <td>...</td>\n",
       "      <td>0</td>\n",
       "      <td>0</td>\n",
       "      <td>1</td>\n",
       "      <td>0</td>\n",
       "      <td>0</td>\n",
       "      <td>0</td>\n",
       "      <td>0</td>\n",
       "      <td>0</td>\n",
       "      <td>0</td>\n",
       "      <td>0</td>\n",
       "    </tr>\n",
       "  </tbody>\n",
       "</table>\n",
       "<p>3 rows × 53 columns</p>\n",
       "</div>"
      ],
      "text/plain": [
       "   area  bhk  bathroom  age  Agaramthen  Ambattur  Anna Nagar  Chromepet  \\\n",
       "0  1655    3       3.0  1.0           1         0           0          0   \n",
       "1  2100    3       3.0  1.0           1         0           0          0   \n",
       "2  2000    3       3.0  1.0           1         0           0          0   \n",
       "\n",
       "   Elandanur  Gerugambakkam  ...  Karthick  Kkk Landmark  MC Foundation  \\\n",
       "0          0              0  ...         0             0              1   \n",
       "1          0              0  ...         0             0              1   \n",
       "2          0              0  ...         0             0              1   \n",
       "\n",
       "   Pacifica Companies  Prestige Estates Projects Ltd  \\\n",
       "0                   0                              0   \n",
       "1                   0                              0   \n",
       "2                   0                              0   \n",
       "\n",
       "   Propsource Realty Private Limited  Saradeuz Realty Constructions  \\\n",
       "0                                  0                              0   \n",
       "1                                  0                              0   \n",
       "2                                  0                              0   \n",
       "\n",
       "   Velan Housing Properties  seller  viswaraj  \n",
       "0                         0       0         0  \n",
       "1                         0       0         0  \n",
       "2                         0       0         0  \n",
       "\n",
       "[3 rows x 53 columns]"
      ]
     },
     "execution_count": 153,
     "metadata": {},
     "output_type": "execute_result"
    }
   ],
   "source": [
    "X = df8.drop(['price'],axis='columns')\n",
    "X.head(3)"
   ]
  },
  {
   "cell_type": "code",
   "execution_count": 154,
   "id": "7a81f5eb",
   "metadata": {},
   "outputs": [
    {
     "data": {
      "text/plain": [
       "(377, 53)"
      ]
     },
     "execution_count": 154,
     "metadata": {},
     "output_type": "execute_result"
    }
   ],
   "source": [
    "X.shape"
   ]
  },
  {
   "cell_type": "code",
   "execution_count": 155,
   "id": "095eb75f",
   "metadata": {},
   "outputs": [
    {
     "data": {
      "text/plain": [
       "0     75.0\n",
       "1    100.0\n",
       "2     95.0\n",
       "Name: price, dtype: float64"
      ]
     },
     "execution_count": 155,
     "metadata": {},
     "output_type": "execute_result"
    }
   ],
   "source": [
    "y = df8.price\n",
    "y.head(3)"
   ]
  },
  {
   "cell_type": "code",
   "execution_count": 156,
   "id": "5f6a0315",
   "metadata": {},
   "outputs": [
    {
     "data": {
      "text/plain": [
       "(377,)"
      ]
     },
     "execution_count": 156,
     "metadata": {},
     "output_type": "execute_result"
    }
   ],
   "source": [
    "y.shape"
   ]
  },
  {
   "cell_type": "code",
   "execution_count": 157,
   "id": "a496abc0",
   "metadata": {},
   "outputs": [],
   "source": [
    "from sklearn.model_selection import train_test_split\n",
    "X_train, X_test, y_train, y_test = train_test_split(X,y,test_size=0.2,random_state=10)"
   ]
  },
  {
   "cell_type": "code",
   "execution_count": 158,
   "id": "ebfba84c",
   "metadata": {},
   "outputs": [
    {
     "data": {
      "text/plain": [
       "0.9071577616283037"
      ]
     },
     "execution_count": 158,
     "metadata": {},
     "output_type": "execute_result"
    }
   ],
   "source": [
    "from sklearn.linear_model import LinearRegression\n",
    "model = LinearRegression()\n",
    "model.fit(X_train,y_train)\n",
    "model.score(X_test,y_test)"
   ]
  },
  {
   "cell_type": "markdown",
   "id": "78ef90da",
   "metadata": {},
   "source": [
    "# Use K Fold cross validation to measure accuracy of our LinearRegression model"
   ]
  },
  {
   "cell_type": "code",
   "execution_count": 159,
   "id": "f739e49b",
   "metadata": {},
   "outputs": [
    {
     "data": {
      "text/plain": [
       "array([0.89799425, 0.90544312, 0.91820319, 0.84015067, 0.94139785])"
      ]
     },
     "execution_count": 159,
     "metadata": {},
     "output_type": "execute_result"
    }
   ],
   "source": [
    "from sklearn.model_selection import ShuffleSplit\n",
    "from sklearn.model_selection import cross_val_score\n",
    "\n",
    "cv = ShuffleSplit(n_splits=5, test_size=0.2, random_state=0)\n",
    "\n",
    "cross_val_score(LinearRegression(), X, y, cv=cv)"
   ]
  },
  {
   "cell_type": "markdown",
   "id": "db79cb92",
   "metadata": {},
   "source": [
    "We can see that in 5 iterations we get a score above 90% all the time. This is pretty good but we want to test few other algorithms for regression to see if we can get even better score. We will use GridSearchCV for this purpose"
   ]
  },
  {
   "cell_type": "markdown",
   "id": "ffd99046",
   "metadata": {},
   "source": [
    "# Find best model using GridSearchCV\n"
   ]
  },
  {
   "cell_type": "code",
   "execution_count": 160,
   "id": "14dd8fee",
   "metadata": {},
   "outputs": [
    {
     "data": {
      "text/html": [
       "<div>\n",
       "<style scoped>\n",
       "    .dataframe tbody tr th:only-of-type {\n",
       "        vertical-align: middle;\n",
       "    }\n",
       "\n",
       "    .dataframe tbody tr th {\n",
       "        vertical-align: top;\n",
       "    }\n",
       "\n",
       "    .dataframe thead th {\n",
       "        text-align: right;\n",
       "    }\n",
       "</style>\n",
       "<table border=\"1\" class=\"dataframe\">\n",
       "  <thead>\n",
       "    <tr style=\"text-align: right;\">\n",
       "      <th></th>\n",
       "      <th>model</th>\n",
       "      <th>best_score</th>\n",
       "      <th>best_params</th>\n",
       "    </tr>\n",
       "  </thead>\n",
       "  <tbody>\n",
       "    <tr>\n",
       "      <th>0</th>\n",
       "      <td>linear_regression</td>\n",
       "      <td>0.900638</td>\n",
       "      <td>{'normalize': False}</td>\n",
       "    </tr>\n",
       "    <tr>\n",
       "      <th>1</th>\n",
       "      <td>lasso</td>\n",
       "      <td>0.733047</td>\n",
       "      <td>{'alpha': 1, 'selection': 'random'}</td>\n",
       "    </tr>\n",
       "    <tr>\n",
       "      <th>2</th>\n",
       "      <td>decision_tree</td>\n",
       "      <td>0.807612</td>\n",
       "      <td>{'criterion': 'mse', 'splitter': 'random'}</td>\n",
       "    </tr>\n",
       "  </tbody>\n",
       "</table>\n",
       "</div>"
      ],
      "text/plain": [
       "               model  best_score                                 best_params\n",
       "0  linear_regression    0.900638                        {'normalize': False}\n",
       "1              lasso    0.733047         {'alpha': 1, 'selection': 'random'}\n",
       "2      decision_tree    0.807612  {'criterion': 'mse', 'splitter': 'random'}"
      ]
     },
     "execution_count": 160,
     "metadata": {},
     "output_type": "execute_result"
    }
   ],
   "source": [
    "from sklearn.model_selection import GridSearchCV\n",
    "\n",
    "from sklearn.linear_model import Lasso\n",
    "from sklearn.tree import DecisionTreeRegressor\n",
    "\n",
    "def find_best_model_using_gridsearchcv(X,y):\n",
    "    algos = {\n",
    "        'linear_regression' : {\n",
    "            'model': LinearRegression(),\n",
    "            'params': {\n",
    "                'normalize': [True, False]\n",
    "            }\n",
    "        },\n",
    "        'lasso': {\n",
    "            'model': Lasso(),\n",
    "            'params': {\n",
    "                'alpha': [1,2],\n",
    "                'selection': ['random', 'cyclic']\n",
    "            }\n",
    "        },\n",
    "        'decision_tree': {\n",
    "            'model': DecisionTreeRegressor(),\n",
    "            'params': {\n",
    "                'criterion' : ['mse','friedman_mse'],\n",
    "                'splitter': ['best','random']\n",
    "            }\n",
    "        }\n",
    "    }\n",
    "    scores = []\n",
    "    cv = ShuffleSplit(n_splits=5, test_size=0.2, random_state=0)\n",
    "    for algo_name, config in algos.items():\n",
    "        gs =  GridSearchCV(config['model'], config['params'], cv=cv, return_train_score=False)\n",
    "        gs.fit(X,y)\n",
    "        scores.append({\n",
    "            'model': algo_name,\n",
    "            'best_score': gs.best_score_,\n",
    "            'best_params': gs.best_params_\n",
    "        })\n",
    "\n",
    "    return pd.DataFrame(scores,columns=['model','best_score','best_params'])\n",
    "\n",
    "find_best_model_using_gridsearchcv(X,y)"
   ]
  },
  {
   "cell_type": "markdown",
   "id": "8cdd9de5",
   "metadata": {},
   "source": [
    "Based on above results we can say that LinearRegression gives the best score. Hence we will use that.\n",
    "\n"
   ]
  },
  {
   "cell_type": "markdown",
   "id": "d7f9c53e",
   "metadata": {},
   "source": [
    "# Test the model for few properties"
   ]
  },
  {
   "cell_type": "code",
   "execution_count": 197,
   "id": "99bb168c",
   "metadata": {},
   "outputs": [],
   "source": [
    "def predict_price(location,area,bathroom,bhk):    \n",
    "    loc_index = np.where(X.columns==location)[0][0]\n",
    "\n",
    "    x = np.zeros(len(X.columns))\n",
    "    x[0] = area\n",
    "    x[1] = bathroom\n",
    "    x[2] = bhk\n",
    "    if loc_index >= 0:\n",
    "        x[loc_index] = 1\n",
    "\n",
    "    return model.predict([x])[0]"
   ]
  },
  {
   "cell_type": "code",
   "execution_count": 200,
   "id": "5cc86548",
   "metadata": {},
   "outputs": [
    {
     "name": "stdout",
     "output_type": "stream",
     "text": [
      "Enter the location:Agaramthen\n",
      "Enter the area:1000\n",
      "Enter the bathroom:3\n",
      "Enter the bhk:3\n"
     ]
    },
    {
     "data": {
      "text/plain": [
       "35.805980235054676"
      ]
     },
     "execution_count": 200,
     "metadata": {},
     "output_type": "execute_result"
    }
   ],
   "source": [
    "x=input(str('Enter the location:'))\n",
    "u=input('Enter the area:')\n",
    "z=input('Enter the bathroom:')\n",
    "w=input('Enter the bhk:')\n",
    "predict_price(x,u, z, w)\n"
   ]
  },
  {
   "cell_type": "code",
   "execution_count": 184,
   "id": "ab6725ed",
   "metadata": {},
   "outputs": [
    {
     "data": {
      "text/plain": [
       "35.805980235054676"
      ]
     },
     "execution_count": 184,
     "metadata": {},
     "output_type": "execute_result"
    }
   ],
   "source": [
    "predict_price('Agaramthen',1000, 3, 3)\n"
   ]
  }
 ],
 "metadata": {
  "kernelspec": {
   "display_name": "Python 3",
   "language": "python",
   "name": "python3"
  },
  "language_info": {
   "codemirror_mode": {
    "name": "ipython",
    "version": 3
   },
   "file_extension": ".py",
   "mimetype": "text/x-python",
   "name": "python",
   "nbconvert_exporter": "python",
   "pygments_lexer": "ipython3",
   "version": "3.8.8"
  }
 },
 "nbformat": 4,
 "nbformat_minor": 5
}
